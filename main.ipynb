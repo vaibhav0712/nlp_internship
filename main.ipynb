{
 "cells": [
  {
   "cell_type": "code",
   "execution_count": 1,
   "id": "initial_id",
   "metadata": {
    "ExecuteTime": {
     "end_time": "2024-06-12T05:43:07.504981400Z",
     "start_time": "2024-06-12T05:43:06.573408300Z"
    }
   },
   "outputs": [],
   "source": [
    "import pandas as pd\n",
    "import os"
   ]
  },
  {
   "cell_type": "code",
   "execution_count": 13,
   "id": "d7ab40f558d9b14e",
   "metadata": {
    "collapsed": false,
    "ExecuteTime": {
     "end_time": "2024-06-12T06:03:33.403611600Z",
     "start_time": "2024-06-12T06:03:33.074228500Z"
    }
   },
   "outputs": [],
   "source": [
    "df1 = pd.read_csv('markets-trends_content.csv')\n",
    "df2 = pd.read_csv('laws-and-regulations_content.csv')\n",
    "df3 = pd.read_csv('science-rd_content.csv')\n",
    "df4 = pd.read_csv('packaging-design_content.csv')\n",
    "df5 = pd.read_csv('ingredients-and-formulation_content.csv')\n",
    "df6 = pd.read_csv('environment_content.csv')\n",
    "df7 = pd.read_csv('innovation-new-products_content.csv')\n",
    "df8 = pd.read_csv('companies-industry_content.csv')\n",
    "df9 = pd.read_csv('industry-buzz_content.csv')"
   ]
  },
  {
   "cell_type": "code",
   "execution_count": 14,
   "id": "6744872f8886a519",
   "metadata": {
    "collapsed": false,
    "ExecuteTime": {
     "end_time": "2024-06-12T06:03:34.495656400Z",
     "start_time": "2024-06-12T06:03:34.448991Z"
    }
   },
   "outputs": [
    {
     "name": "stdout",
     "output_type": "stream",
     "text": [
      "1040 180 140 830 410 150 290 969 990\n"
     ]
    }
   ],
   "source": [
    "print(df1.shape[0], df2.shape[0], df3.shape[0], df4.shape[0], df5.shape[0], df6.shape[0], df7.shape[0], df8.shape[0], df9.shape[0])"
   ]
  },
  {
   "cell_type": "code",
   "execution_count": 16,
   "outputs": [
    {
     "data": {
      "text/plain": "4999"
     },
     "execution_count": 16,
     "metadata": {},
     "output_type": "execute_result"
    }
   ],
   "source": [
    "sum([1040, 180, 140, 830, 410, 150, 290, 969, 990])"
   ],
   "metadata": {
    "collapsed": false,
    "ExecuteTime": {
     "end_time": "2024-06-12T06:04:26.079570100Z",
     "start_time": "2024-06-12T06:04:26.059229Z"
    }
   },
   "id": "600fe7f74d6b03ea"
  },
  {
   "cell_type": "code",
   "execution_count": 17,
   "outputs": [
    {
     "data": {
      "text/plain": "4999"
     },
     "execution_count": 17,
     "metadata": {},
     "output_type": "execute_result"
    }
   ],
   "source": [
    "df = pd.concat([df1, df2, df3, df4, df5, df6, df7, df8, df9], ignore_index=True)\n",
    "df.shape[0]"
   ],
   "metadata": {
    "collapsed": false,
    "ExecuteTime": {
     "end_time": "2024-06-12T06:04:37.920836800Z",
     "start_time": "2024-06-12T06:04:37.861967900Z"
    }
   },
   "id": "9e0652b9d7e3d8ad"
  },
  {
   "cell_type": "code",
   "execution_count": 22,
   "outputs": [],
   "source": [
    "df.to_csv('all_content.csv', index=False)"
   ],
   "metadata": {
    "collapsed": false,
    "ExecuteTime": {
     "end_time": "2024-06-12T06:05:46.196190600Z",
     "start_time": "2024-06-12T06:05:45.747752Z"
    }
   },
   "id": "ce11789d5d3d9e6c"
  }
 ],
 "metadata": {
  "kernelspec": {
   "display_name": "Python 3 (ipykernel)",
   "language": "python",
   "name": "python3"
  },
  "language_info": {
   "codemirror_mode": {
    "name": "ipython",
    "version": 3
   },
   "file_extension": ".py",
   "mimetype": "text/x-python",
   "name": "python",
   "nbconvert_exporter": "python",
   "pygments_lexer": "ipython3",
   "version": "3.9.17"
  }
 },
 "nbformat": 4,
 "nbformat_minor": 5
}
