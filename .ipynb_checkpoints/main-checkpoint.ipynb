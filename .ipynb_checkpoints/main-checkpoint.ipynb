{
 "cells": [
  {
   "cell_type": "code",
   "execution_count": 1,
   "id": "initial_id",
   "metadata": {
    "ExecuteTime": {
     "end_time": "2024-06-12T05:43:07.504981400Z",
     "start_time": "2024-06-12T05:43:06.573408300Z"
    }
   },
   "outputs": [],
   "source": [
    "import pandas as pd\n",
    "import os"
   ]
  },
  {
   "cell_type": "code",
   "execution_count": 2,
   "id": "d7ab40f558d9b14e",
   "metadata": {
    "ExecuteTime": {
     "end_time": "2024-06-12T05:59:48.706143500Z",
     "start_time": "2024-06-12T05:59:48.634627400Z"
    },
    "collapsed": false,
    "jupyter": {
     "outputs_hidden": false
    }
   },
   "outputs": [],
   "source": [
    "df1 = pd.read_csv('markets-trends_content.csv')\n",
    "df2 = pd.read_csv('laws-and-regulations_content.csv')\n",
    "df3 = pd.read_csv('science-rd_content.csv')\n",
    "df4 = pd.read_csv('packaging-design_content.csv')\n",
    "df5 = pd.read_csv('ingredients-and-formulation_content.csv')\n",
    "df6 = pd.read_csv('environment_content.csv')\n",
    "df7 = pd.read_csv('innovation-new-products_content.csv')\n",
    "df8 = pd.read_csv('companies-industry_content.csv')\n",
    "df9 = pd.read_csv('industry-buzz_content.csv')"
   ]
  },
  {
   "cell_type": "code",
   "execution_count": 16,
   "id": "6744872f8886a519",
   "metadata": {
    "ExecuteTime": {
     "end_time": "2024-06-12T05:58:53.123359900Z",
     "start_time": "2024-06-12T05:58:53.006353900Z"
    },
    "collapsed": false,
    "jupyter": {
     "outputs_hidden": false
    }
   },
   "outputs": [
    {
     "name": "stdout",
     "output_type": "stream",
     "text": [
      "1040 180 140\n"
     ]
    }
   ],
   "source": [
    "print(df1.shape[0], df2.shape[0], df3.shape[0], df)"
   ]
  }
 ],
 "metadata": {
  "kernelspec": {
   "display_name": "Python 3 (ipykernel)",
   "language": "python",
   "name": "python3"
  },
  "language_info": {
   "codemirror_mode": {
    "name": "ipython",
    "version": 3
   },
   "file_extension": ".py",
   "mimetype": "text/x-python",
   "name": "python",
   "nbconvert_exporter": "python",
   "pygments_lexer": "ipython3",
   "version": "3.9.17"
  }
 },
 "nbformat": 4,
 "nbformat_minor": 5
}
