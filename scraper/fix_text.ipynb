{
 "cells": [
  {
   "cell_type": "code",
   "execution_count": 1,
   "metadata": {},
   "outputs": [],
   "source": [
    "import pandas as pd\n",
    "import spacy \n",
    "from spacy import displacy"
   ]
  },
  {
   "cell_type": "code",
   "execution_count": 5,
   "metadata": {},
   "outputs": [
    {
     "data": {
      "text/plain": [
       "{'spacy_version': '3.7.5',\n",
       " 'location': 'c:\\\\Users\\\\VAIBHAV\\\\miniconda3\\\\envs\\\\x-beta\\\\lib\\\\site-packages\\\\spacy',\n",
       " 'platform': 'Windows-10-10.0.22631-SP0',\n",
       " 'python_version': '3.9.17',\n",
       " 'pipelines': {'en_core_web_lg': '3.7.1',\n",
       "  'en_core_web_sm': '3.7.1',\n",
       "  'en_core_web_trf': '3.7.3'}}"
      ]
     },
     "execution_count": 5,
     "metadata": {},
     "output_type": "execute_result"
    }
   ],
   "source": [
    "spacy.info()"
   ]
  },
  {
   "cell_type": "code",
   "execution_count": 21,
   "metadata": {},
   "outputs": [],
   "source": [
    "def spacy_detect(model_name,text):\n",
    "    nlp = spacy.load(model_name)\n",
    "    doc = nlp(text)\n",
    "    options = {'ents':['ORG']}\n",
    "    displacy.render(doc,style='ent',jupyter=True,options=options)"
   ]
  },
  {
   "cell_type": "code",
   "execution_count": 9,
   "metadata": {},
   "outputs": [
    {
     "data": {
      "text/html": [
       "<span class=\"tex2jax_ignore\"><div class=\"entities\" style=\"line-height: 2.5; direction: ltr\">\n",
       "<mark class=\"entity\" style=\"background: #7aecec; padding: 0.45em 0.6em; margin: 0 0.25em; line-height: 1; border-radius: 0.35em;\">\n",
       "    Apple\n",
       "    <span style=\"font-size: 0.8em; font-weight: bold; line-height: 1; border-radius: 0.35em; vertical-align: middle; margin-left: 0.5rem\">ORG</span>\n",
       "</mark>\n",
       " is a company based in \n",
       "<mark class=\"entity\" style=\"background: #feca74; padding: 0.45em 0.6em; margin: 0 0.25em; line-height: 1; border-radius: 0.35em;\">\n",
       "    California\n",
       "    <span style=\"font-size: 0.8em; font-weight: bold; line-height: 1; border-radius: 0.35em; vertical-align: middle; margin-left: 0.5rem\">GPE</span>\n",
       "</mark>\n",
       ". It was founded by \n",
       "<mark class=\"entity\" style=\"background: #aa9cfc; padding: 0.45em 0.6em; margin: 0 0.25em; line-height: 1; border-radius: 0.35em;\">\n",
       "    Steve Jobs\n",
       "    <span style=\"font-size: 0.8em; font-weight: bold; line-height: 1; border-radius: 0.35em; vertical-align: middle; margin-left: 0.5rem\">PERSON</span>\n",
       "</mark>\n",
       ".</div></span>"
      ],
      "text/plain": [
       "<IPython.core.display.HTML object>"
      ]
     },
     "metadata": {},
     "output_type": "display_data"
    }
   ],
   "source": [
    "spacy_detect('en_core_web_sm','Apple is a company based in California. It was founded by Steve Jobs.')"
   ]
  },
  {
   "cell_type": "code",
   "execution_count": 10,
   "metadata": {},
   "outputs": [
    {
     "data": {
      "text/html": [
       "<span class=\"tex2jax_ignore\"><div class=\"entities\" style=\"line-height: 2.5; direction: ltr\">\n",
       "<mark class=\"entity\" style=\"background: #7aecec; padding: 0.45em 0.6em; margin: 0 0.25em; line-height: 1; border-radius: 0.35em;\">\n",
       "    Apple\n",
       "    <span style=\"font-size: 0.8em; font-weight: bold; line-height: 1; border-radius: 0.35em; vertical-align: middle; margin-left: 0.5rem\">ORG</span>\n",
       "</mark>\n",
       " is a company based in \n",
       "<mark class=\"entity\" style=\"background: #feca74; padding: 0.45em 0.6em; margin: 0 0.25em; line-height: 1; border-radius: 0.35em;\">\n",
       "    California\n",
       "    <span style=\"font-size: 0.8em; font-weight: bold; line-height: 1; border-radius: 0.35em; vertical-align: middle; margin-left: 0.5rem\">GPE</span>\n",
       "</mark>\n",
       ". It was founded by \n",
       "<mark class=\"entity\" style=\"background: #aa9cfc; padding: 0.45em 0.6em; margin: 0 0.25em; line-height: 1; border-radius: 0.35em;\">\n",
       "    Steve Jobs\n",
       "    <span style=\"font-size: 0.8em; font-weight: bold; line-height: 1; border-radius: 0.35em; vertical-align: middle; margin-left: 0.5rem\">PERSON</span>\n",
       "</mark>\n",
       ".</div></span>"
      ],
      "text/plain": [
       "<IPython.core.display.HTML object>"
      ]
     },
     "metadata": {},
     "output_type": "display_data"
    }
   ],
   "source": [
    "spacy_detect('en_core_web_lg','Apple is a company based in California. It was founded by Steve Jobs.')"
   ]
  },
  {
   "cell_type": "code",
   "execution_count": 11,
   "metadata": {},
   "outputs": [],
   "source": [
    "df = pd.read_csv('filter_blog_content.csv')\n",
    "example  = df['text'][0]"
   ]
  },
  {
   "cell_type": "code",
   "execution_count": 16,
   "metadata": {},
   "outputs": [],
   "source": [
    "# spacy_detect('en_core_web_sm',example)"
   ]
  },
  {
   "cell_type": "code",
   "execution_count": 24,
   "metadata": {},
   "outputs": [
    {
     "data": {
      "text/plain": [
       "'Olivier Serva, an independent National Assembly deputy for the French overseas territory of Guadeloupe and the bill\\'s sponsor, said it would penalise any workplace discrimination based on \"hair style, colour, length or texture\". Similar laws exist in around 20 US states which have identified hair discrimination as an expression of racism. In Britain, the Equality and Human Rights Commission has issued guidelines against hair discrimination in schools. Serva, who is black, said women \"of African descent\" were often encouraged before job interviews to change their style of hair. Backers also say that men who wear their hair in styles like dreadlocks are also affected. The bill was approved in the lower house National Assembly with 44 votes in favour and two against. It will now head to the upper Senate where the right has the majority and the vote\\'s outcome is much less certain. Serva, who also included discrimination suffered by blondes, redheads and bald men in his proposal, points to an American study stating that a quarter of black women polled said they had been ruled out for jobs because of how they wore their hair at the job interview. Such statistics are hard to come by in France, which bans the compilation of personal data that mention a person\\'s race or ethnic background on the basis of the French Republic\\'s \"universalist\" principles. The draft law does not, in fact, contain the term \"racism\", noted Daphne Bedinade, a social anthropologist, saying the omission was problematic. \"To make this only about hair discrimination is to mask the problems of people whose hair makes them a target of discrimination, mostly black women,\" she told Le Monde daily. A black Air France air crew member in 2022 won a 10-year legal battle for the right to work with braided hair on flights after a decision by France\\'s highest appeals court. While statistics are difficult to come by, high-profile people have faced online harassment because of their hairstyle. In the political sphere they include former government spokeswoman Sibeth Ndiaye, and Audrey Pulvar, a deputy mayor of Paris, whose Afro look has attracted much negative comment online. The bill\\'s critics say it is unnecessary, as discrimination based on looks is already banned by law. \"There is no legal void here,\" said Eric Rocheblave, a lawyer specialising in labour law. Calling any future law \"symbolic\", Rocheblave said it would not be of much practical help when it came to proving discrimination in court. Kenza Bel Kenadil, an influencer and self-proclaimed \"activist against hair discrimination\", said a law would still send an important message. \"It would tell everybody that the law protects you in every way and lets you style your hair any way you want,\" she said. The influencer, who has 256,000 followers on Instagram, said she herself had been \"forced\" to tie her hair in a bun when she was working as a receptionist. Her employers were \"very clear\", she said. \"It was, either you go home and fix your hair or you don\\'t come here to work\". During the parliamentary debate deputy Fanta Berete, originally from Guinea, said she, too, had been told in the past to straighten her hair in job interviews. Aurore Bergé, minister in charge of gender equality, said the government was \"looking kindly\" on the initiative which she said was useful in drawing attention to this form of discrimination. Some right-wing deputies rejected the bill, with Republicans deputy Xavier Breton saying it was the outcome of an \"activist ideology\" that he said was aimed at \"dividing our society\" by establishing \"a hierarchy\" of discriminatory acts.'"
      ]
     },
     "execution_count": 24,
     "metadata": {},
     "output_type": "execute_result"
    }
   ],
   "source": [
    "example"
   ]
  },
  {
   "cell_type": "code",
   "execution_count": 22,
   "metadata": {},
   "outputs": [
    {
     "data": {
      "text/html": [
       "<span class=\"tex2jax_ignore\"><div class=\"entities\" style=\"line-height: 2.5; direction: ltr\">Olivier Serva, an independent \n",
       "<mark class=\"entity\" style=\"background: #7aecec; padding: 0.45em 0.6em; margin: 0 0.25em; line-height: 1; border-radius: 0.35em;\">\n",
       "    National Assembly\n",
       "    <span style=\"font-size: 0.8em; font-weight: bold; line-height: 1; border-radius: 0.35em; vertical-align: middle; margin-left: 0.5rem\">ORG</span>\n",
       "</mark>\n",
       " deputy for the French overseas territory of Guadeloupe and the bill's sponsor, said it would penalise any workplace discrimination based on &quot;hair style, colour, length or texture&quot;. Similar laws exist in around 20 US states which have identified hair discrimination as an expression of racism. In Britain, \n",
       "<mark class=\"entity\" style=\"background: #7aecec; padding: 0.45em 0.6em; margin: 0 0.25em; line-height: 1; border-radius: 0.35em;\">\n",
       "    the Equality and Human Rights Commission\n",
       "    <span style=\"font-size: 0.8em; font-weight: bold; line-height: 1; border-radius: 0.35em; vertical-align: middle; margin-left: 0.5rem\">ORG</span>\n",
       "</mark>\n",
       " has issued guidelines against hair discrimination in schools. Serva, who is black, said women &quot;of African descent&quot; were often encouraged before job interviews to change their style of hair. Backers also say that men who wear their hair in styles like dreadlocks are also affected. The bill was approved in the lower house \n",
       "<mark class=\"entity\" style=\"background: #7aecec; padding: 0.45em 0.6em; margin: 0 0.25em; line-height: 1; border-radius: 0.35em;\">\n",
       "    National Assembly\n",
       "    <span style=\"font-size: 0.8em; font-weight: bold; line-height: 1; border-radius: 0.35em; vertical-align: middle; margin-left: 0.5rem\">ORG</span>\n",
       "</mark>\n",
       " with 44 votes in favour and two against. It will now head to the upper \n",
       "<mark class=\"entity\" style=\"background: #7aecec; padding: 0.45em 0.6em; margin: 0 0.25em; line-height: 1; border-radius: 0.35em;\">\n",
       "    Senate\n",
       "    <span style=\"font-size: 0.8em; font-weight: bold; line-height: 1; border-radius: 0.35em; vertical-align: middle; margin-left: 0.5rem\">ORG</span>\n",
       "</mark>\n",
       " where the right has the majority and the vote's outcome is much less certain. Serva, who also included discrimination suffered by blondes, redheads and bald men in his proposal, points to an American study stating that a quarter of black women polled said they had been ruled out for jobs because of how they wore their hair at the job interview. Such statistics are hard to come by in France, which bans the compilation of personal data that mention a person's race or ethnic background on the basis of the French Republic's &quot;universalist&quot; principles. The draft law does not, in fact, contain the term &quot;racism&quot;, noted Daphne Bedinade, a social anthropologist, saying the omission was problematic. &quot;To make this only about hair discrimination is to mask the problems of people whose hair makes them a target of discrimination, mostly black women,&quot; she told \n",
       "<mark class=\"entity\" style=\"background: #7aecec; padding: 0.45em 0.6em; margin: 0 0.25em; line-height: 1; border-radius: 0.35em;\">\n",
       "    Le Monde\n",
       "    <span style=\"font-size: 0.8em; font-weight: bold; line-height: 1; border-radius: 0.35em; vertical-align: middle; margin-left: 0.5rem\">ORG</span>\n",
       "</mark>\n",
       " daily. A black \n",
       "<mark class=\"entity\" style=\"background: #7aecec; padding: 0.45em 0.6em; margin: 0 0.25em; line-height: 1; border-radius: 0.35em;\">\n",
       "    Air France\n",
       "    <span style=\"font-size: 0.8em; font-weight: bold; line-height: 1; border-radius: 0.35em; vertical-align: middle; margin-left: 0.5rem\">ORG</span>\n",
       "</mark>\n",
       " air crew member in 2022 won a 10-year legal battle for the right to work with braided hair on flights after a decision by France's highest appeals court. While statistics are difficult to come by, high-profile people have faced online harassment because of their hairstyle. In the political sphere they include former government spokeswoman Sibeth Ndiaye, and Audrey Pulvar, a deputy mayor of Paris, whose Afro look has attracted much negative comment online. The bill's critics say it is unnecessary, as discrimination based on looks is already banned by law. &quot;There is no legal void here,&quot; said Eric Rocheblave, a lawyer specialising in labour law. Calling any future law &quot;symbolic&quot;, Rocheblave said it would not be of much practical help when it came to proving discrimination in court. Kenza Bel Kenadil, an influencer and self-proclaimed &quot;activist against hair discrimination&quot;, said a law would still send an important message. &quot;It would tell everybody that the law protects you in every way and lets you style your hair any way you want,&quot; she said. The influencer, who has 256,000 followers on \n",
       "<mark class=\"entity\" style=\"background: #7aecec; padding: 0.45em 0.6em; margin: 0 0.25em; line-height: 1; border-radius: 0.35em;\">\n",
       "    Instagram\n",
       "    <span style=\"font-size: 0.8em; font-weight: bold; line-height: 1; border-radius: 0.35em; vertical-align: middle; margin-left: 0.5rem\">ORG</span>\n",
       "</mark>\n",
       ", said she herself had been &quot;forced&quot; to tie her hair in a bun when she was working as a receptionist. Her employers were &quot;very clear&quot;, she said. &quot;It was, either you go home and fix your hair or you don't come here to work&quot;. During the parliamentary debate deputy Fanta Berete, originally from Guinea, said she, too, had been told in the past to straighten her hair in job interviews. Aurore Bergé, minister in charge of gender equality, said the government was &quot;looking kindly&quot; on the initiative which she said was useful in drawing attention to this form of discrimination. Some right-wing deputies rejected the bill, with Republicans deputy Xavier Breton saying it was the outcome of an &quot;activist ideology&quot; that he said was aimed at &quot;dividing our society&quot; by establishing &quot;a hierarchy&quot; of discriminatory acts.</div></span>"
      ],
      "text/plain": [
       "<IPython.core.display.HTML object>"
      ]
     },
     "metadata": {},
     "output_type": "display_data"
    }
   ],
   "source": [
    "spacy_detect('en_core_web_lg',example)"
   ]
  },
  {
   "cell_type": "code",
   "execution_count": 23,
   "metadata": {},
   "outputs": [
    {
     "data": {
      "text/html": [
       "<span class=\"tex2jax_ignore\"><div class=\"entities\" style=\"line-height: 2.5; direction: ltr\">Olivier Serva, an independent \n",
       "<mark class=\"entity\" style=\"background: #7aecec; padding: 0.45em 0.6em; margin: 0 0.25em; line-height: 1; border-radius: 0.35em;\">\n",
       "    National Assembly\n",
       "    <span style=\"font-size: 0.8em; font-weight: bold; line-height: 1; border-radius: 0.35em; vertical-align: middle; margin-left: 0.5rem\">ORG</span>\n",
       "</mark>\n",
       " deputy for the French overseas territory of Guadeloupe and the bill's sponsor, said it would penalise any workplace discrimination based on &quot;hair style, colour, length or texture&quot;. Similar laws exist in around 20 US states which have identified hair discrimination as an expression of racism. In Britain, \n",
       "<mark class=\"entity\" style=\"background: #7aecec; padding: 0.45em 0.6em; margin: 0 0.25em; line-height: 1; border-radius: 0.35em;\">\n",
       "    the Equality and Human Rights Commission\n",
       "    <span style=\"font-size: 0.8em; font-weight: bold; line-height: 1; border-radius: 0.35em; vertical-align: middle; margin-left: 0.5rem\">ORG</span>\n",
       "</mark>\n",
       " has issued guidelines against hair discrimination in schools. Serva, who is black, said women &quot;of African descent&quot; were often encouraged before job interviews to change their style of hair. Backers also say that men who wear their hair in styles like dreadlocks are also affected. The bill was approved in the lower house \n",
       "<mark class=\"entity\" style=\"background: #7aecec; padding: 0.45em 0.6em; margin: 0 0.25em; line-height: 1; border-radius: 0.35em;\">\n",
       "    National Assembly\n",
       "    <span style=\"font-size: 0.8em; font-weight: bold; line-height: 1; border-radius: 0.35em; vertical-align: middle; margin-left: 0.5rem\">ORG</span>\n",
       "</mark>\n",
       " with 44 votes in favour and two against. It will now head to the upper \n",
       "<mark class=\"entity\" style=\"background: #7aecec; padding: 0.45em 0.6em; margin: 0 0.25em; line-height: 1; border-radius: 0.35em;\">\n",
       "    Senate\n",
       "    <span style=\"font-size: 0.8em; font-weight: bold; line-height: 1; border-radius: 0.35em; vertical-align: middle; margin-left: 0.5rem\">ORG</span>\n",
       "</mark>\n",
       " where the right has the majority and the vote's outcome is much less certain. Serva, who also included discrimination suffered by blondes, redheads and bald men in his proposal, points to an American study stating that a quarter of black women polled said they had been ruled out for jobs because of how they wore their hair at the job interview. Such statistics are hard to come by in France, which bans the compilation of personal data that mention a person's race or ethnic background on the basis of \n",
       "<mark class=\"entity\" style=\"background: #7aecec; padding: 0.45em 0.6em; margin: 0 0.25em; line-height: 1; border-radius: 0.35em;\">\n",
       "    the French Republic's\n",
       "    <span style=\"font-size: 0.8em; font-weight: bold; line-height: 1; border-radius: 0.35em; vertical-align: middle; margin-left: 0.5rem\">ORG</span>\n",
       "</mark>\n",
       " &quot;universalist&quot; principles. The draft law does not, in fact, contain the term &quot;racism&quot;, noted Daphne Bedinade, a social anthropologist, saying the omission was problematic. &quot;To make this only about hair discrimination is to mask the problems of people whose hair makes them a target of discrimination, mostly black women,&quot; she told \n",
       "<mark class=\"entity\" style=\"background: #7aecec; padding: 0.45em 0.6em; margin: 0 0.25em; line-height: 1; border-radius: 0.35em;\">\n",
       "    Le Monde\n",
       "    <span style=\"font-size: 0.8em; font-weight: bold; line-height: 1; border-radius: 0.35em; vertical-align: middle; margin-left: 0.5rem\">ORG</span>\n",
       "</mark>\n",
       " daily. A black \n",
       "<mark class=\"entity\" style=\"background: #7aecec; padding: 0.45em 0.6em; margin: 0 0.25em; line-height: 1; border-radius: 0.35em;\">\n",
       "    Air France\n",
       "    <span style=\"font-size: 0.8em; font-weight: bold; line-height: 1; border-radius: 0.35em; vertical-align: middle; margin-left: 0.5rem\">ORG</span>\n",
       "</mark>\n",
       " air crew member in 2022 won a 10-year legal battle for the right to work with braided hair on flights after a decision by France's highest appeals court. While statistics are difficult to come by, high-profile people have faced online harassment because of their hairstyle. In the political sphere they include former government spokeswoman Sibeth Ndiaye, and Audrey Pulvar, a deputy mayor of Paris, whose Afro look has attracted much negative comment online. The bill's critics say it is unnecessary, as discrimination based on looks is already banned by law. &quot;There is no legal void here,&quot; said Eric Rocheblave, a lawyer specialising in labour law. Calling any future law &quot;symbolic&quot;, Rocheblave said it would not be of much practical help when it came to proving discrimination in court. Kenza Bel Kenadil, an influencer and self-proclaimed &quot;activist against hair discrimination&quot;, said a law would still send an important message. &quot;It would tell everybody that the law protects you in every way and lets you style your hair any way you want,&quot; she said. The influencer, who has 256,000 followers on \n",
       "<mark class=\"entity\" style=\"background: #7aecec; padding: 0.45em 0.6em; margin: 0 0.25em; line-height: 1; border-radius: 0.35em;\">\n",
       "    Instagram\n",
       "    <span style=\"font-size: 0.8em; font-weight: bold; line-height: 1; border-radius: 0.35em; vertical-align: middle; margin-left: 0.5rem\">ORG</span>\n",
       "</mark>\n",
       ", said she herself had been &quot;forced&quot; to tie her hair in a bun when she was working as a receptionist. Her employers were &quot;very clear&quot;, she said. &quot;It was, either you go home and fix your hair or you don't come here to work&quot;. During the parliamentary debate deputy Fanta Berete, originally from Guinea, said she, too, had been told in the past to straighten her hair in job interviews. Aurore Bergé, minister in charge of gender equality, said the government was &quot;looking kindly&quot; on the initiative which she said was useful in drawing attention to this form of discrimination. Some right-wing deputies rejected the bill, with Republicans deputy Xavier Breton saying it was the outcome of an &quot;activist ideology&quot; that he said was aimed at &quot;dividing our society&quot; by establishing &quot;a hierarchy&quot; of discriminatory acts.</div></span>"
      ],
      "text/plain": [
       "<IPython.core.display.HTML object>"
      ]
     },
     "metadata": {},
     "output_type": "display_data"
    }
   ],
   "source": [
    "spacy_detect('en_core_web_trf',example)"
   ]
  }
 ],
 "metadata": {
  "kernelspec": {
   "display_name": "x-beta",
   "language": "python",
   "name": "python3"
  },
  "language_info": {
   "codemirror_mode": {
    "name": "ipython",
    "version": 3
   },
   "file_extension": ".py",
   "mimetype": "text/x-python",
   "name": "python",
   "nbconvert_exporter": "python",
   "pygments_lexer": "ipython3",
   "version": "3.9.17"
  }
 },
 "nbformat": 4,
 "nbformat_minor": 2
}
