{
 "cells": [
  {
   "cell_type": "code",
   "execution_count": 5,
   "id": "initial_id",
   "metadata": {
    "ExecuteTime": {
     "end_time": "2024-06-12T07:22:05.265001500Z",
     "start_time": "2024-06-12T07:22:05.227421800Z"
    }
   },
   "outputs": [],
   "source": [
    "import pandas as pd\n",
    "import os\n",
    "import re"
   ]
  },
  {
   "cell_type": "code",
   "execution_count": 2,
   "outputs": [
    {
     "data": {
      "text/plain": "                                                  title  \\\n0     French parliament backs bill against hair disc...   \n1     Niche perfumery: the top trends spotted at Esx...   \n2     Shady bleaching jabs fuel health fears, scams ...   \n3     Trend: ’looksmaxxers’, these men ready to do a...   \n4     French exports of perfumes and cosmetic produc...   \n...                                                 ...   \n4994  TotalEnergies and Honeywell join forces to dev...   \n4995  Baralan strengthens the PCR contents of its PP...   \n4996  Zurko Research expands in the U.S. with new su...   \n4997  Pujolasos introduces Woorigin, a wooden cap th...   \n4998  United Perfumes expands home fragrance portfol...   \n\n                                                   text  \n0     Olivier Serva, an independent National Assembl...  \n1     White flowers were in full bloom at this 2024 ...  \n2     The young woman is one of a growing number of ...  \n3     Fans of ’looksmaxxing’ are said to be ready to...  \n4     With an increase of +10.8% in 2023, French exp...  \n...                                                 ...  \n4994  Honeywell and TotalEnergies have announced a s...  \n4995  The Italian company has launched a new range o...  \n4996  Located on the 5th Avenue in Manhattan, New Yo...  \n4997  The Spanish specialist of closures and wooden ...  \n4998  The London-headquartered distributor has expan...  \n\n[4999 rows x 2 columns]",
      "text/html": "<div>\n<style scoped>\n    .dataframe tbody tr th:only-of-type {\n        vertical-align: middle;\n    }\n\n    .dataframe tbody tr th {\n        vertical-align: top;\n    }\n\n    .dataframe thead th {\n        text-align: right;\n    }\n</style>\n<table border=\"1\" class=\"dataframe\">\n  <thead>\n    <tr style=\"text-align: right;\">\n      <th></th>\n      <th>title</th>\n      <th>text</th>\n    </tr>\n  </thead>\n  <tbody>\n    <tr>\n      <th>0</th>\n      <td>French parliament backs bill against hair disc...</td>\n      <td>Olivier Serva, an independent National Assembl...</td>\n    </tr>\n    <tr>\n      <th>1</th>\n      <td>Niche perfumery: the top trends spotted at Esx...</td>\n      <td>White flowers were in full bloom at this 2024 ...</td>\n    </tr>\n    <tr>\n      <th>2</th>\n      <td>Shady bleaching jabs fuel health fears, scams ...</td>\n      <td>The young woman is one of a growing number of ...</td>\n    </tr>\n    <tr>\n      <th>3</th>\n      <td>Trend: ’looksmaxxers’, these men ready to do a...</td>\n      <td>Fans of ’looksmaxxing’ are said to be ready to...</td>\n    </tr>\n    <tr>\n      <th>4</th>\n      <td>French exports of perfumes and cosmetic produc...</td>\n      <td>With an increase of +10.8% in 2023, French exp...</td>\n    </tr>\n    <tr>\n      <th>...</th>\n      <td>...</td>\n      <td>...</td>\n    </tr>\n    <tr>\n      <th>4994</th>\n      <td>TotalEnergies and Honeywell join forces to dev...</td>\n      <td>Honeywell and TotalEnergies have announced a s...</td>\n    </tr>\n    <tr>\n      <th>4995</th>\n      <td>Baralan strengthens the PCR contents of its PP...</td>\n      <td>The Italian company has launched a new range o...</td>\n    </tr>\n    <tr>\n      <th>4996</th>\n      <td>Zurko Research expands in the U.S. with new su...</td>\n      <td>Located on the 5th Avenue in Manhattan, New Yo...</td>\n    </tr>\n    <tr>\n      <th>4997</th>\n      <td>Pujolasos introduces Woorigin, a wooden cap th...</td>\n      <td>The Spanish specialist of closures and wooden ...</td>\n    </tr>\n    <tr>\n      <th>4998</th>\n      <td>United Perfumes expands home fragrance portfol...</td>\n      <td>The London-headquartered distributor has expan...</td>\n    </tr>\n  </tbody>\n</table>\n<p>4999 rows × 2 columns</p>\n</div>"
     },
     "execution_count": 2,
     "metadata": {},
     "output_type": "execute_result"
    }
   ],
   "source": [
    "df = pd.read_csv('all_content.csv')\n",
    "df"
   ],
   "metadata": {
    "collapsed": false,
    "ExecuteTime": {
     "end_time": "2024-06-12T07:19:35.769806900Z",
     "start_time": "2024-06-12T07:19:35.512519100Z"
    }
   },
   "id": "6bf78887a0289150"
  },
  {
   "cell_type": "code",
   "execution_count": 21,
   "outputs": [],
   "source": [
    "def preprocess_text(text):   \n",
    "    text = re.sub(r'<.*?>', '', text)\n",
    "    text = text.split()\n",
    "    text = ' '.join(text)\n",
    "    return text"
   ],
   "metadata": {
    "collapsed": false,
    "ExecuteTime": {
     "end_time": "2024-06-12T07:30:18.092402800Z",
     "start_time": "2024-06-12T07:30:18.087162300Z"
    }
   },
   "id": "35f5063f02dd3f79"
  },
  {
   "cell_type": "code",
   "execution_count": 22,
   "outputs": [],
   "source": [
    "df['text'] = df['text'].map(preprocess_text)"
   ],
   "metadata": {
    "collapsed": false,
    "ExecuteTime": {
     "end_time": "2024-06-12T07:30:21.148991Z",
     "start_time": "2024-06-12T07:30:20.921968400Z"
    }
   },
   "id": "34549a270bc4d2be"
  },
  {
   "cell_type": "code",
   "execution_count": 24,
   "outputs": [],
   "source": [
    "df['title'] = df['title'].map(preprocess_text)\n"
   ],
   "metadata": {
    "collapsed": false,
    "ExecuteTime": {
     "end_time": "2024-06-12T07:31:20.309378500Z",
     "start_time": "2024-06-12T07:31:20.279223100Z"
    }
   },
   "id": "34825b8bd4f81785"
  },
  {
   "cell_type": "code",
   "execution_count": 28,
   "outputs": [],
   "source": [
    "df.to_csv('filter_blog_content.csv',index=False)"
   ],
   "metadata": {
    "collapsed": false,
    "ExecuteTime": {
     "end_time": "2024-06-12T07:34:16.025380100Z",
     "start_time": "2024-06-12T07:34:15.707859700Z"
    }
   },
   "id": "bf028f858198ac3d"
  }
 ],
 "metadata": {
  "kernelspec": {
   "display_name": "Python 3 (ipykernel)",
   "language": "python",
   "name": "python3"
  },
  "language_info": {
   "codemirror_mode": {
    "name": "ipython",
    "version": 3
   },
   "file_extension": ".py",
   "mimetype": "text/x-python",
   "name": "python",
   "nbconvert_exporter": "python",
   "pygments_lexer": "ipython3",
   "version": "3.9.17"
  }
 },
 "nbformat": 4,
 "nbformat_minor": 5
}
