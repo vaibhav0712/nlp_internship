{
 "cells": [
  {
   "cell_type": "code",
   "execution_count": 22,
   "metadata": {},
   "outputs": [],
   "source": [
    "import os\n",
    "import spacy\n",
    "from spacy import displacy\n",
    "from langchain_community.llms import Ollama\n",
    "from langchain_core.prompts import ChatPromptTemplate\n",
    "from langchain_core.output_parsers import StrOutputParser\n",
    "from langchain_groq import ChatGroq\n",
    "os.environ['GROQ_API_KEY'] = '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'"
   ]
  },
  {
   "cell_type": "code",
   "execution_count": 23,
   "metadata": {},
   "outputs": [],
   "source": [
    "def detect_organization(text):\n",
    "    nlp = spacy.load(\"en_core_web_lg\")  # using large spacy model for better accuracy\n",
    "    doc = nlp(text)\n",
    "    options = {\"ents\": [\"OGR\"]}  # Only detecting organization\n",
    "    organizations = [ent.text for ent in doc.ents if ent.label_ == \"ORG\"]\n",
    "    return organizations"
   ]
  },
  {
   "cell_type": "code",
   "execution_count": 24,
   "metadata": {},
   "outputs": [],
   "source": [
    "def classify_blog(text):\n",
    "    # using llama3:8b model running locally\n",
    "    # Categories are :\n",
    "    # 1. company_merger/acquisition/collaboration\n",
    "    # 2. product_launch\n",
    "    # 3. innovation/breaktrough/research in cosmatic\n",
    "\n",
    "    # llama_model = Ollama(model=\"llama3:8b\")\n",
    "    llama_model = ChatGroq(model='llama3-8b-8192')\n",
    "    prompt_template = \"\"\"\n",
    "    You are a helpful assistant.\n",
    "    {user_query}\n",
    "    \"\"\"\n",
    "    prompt = ChatPromptTemplate.from_template(prompt_template)\n",
    "    output_parser = StrOutputParser()\n",
    "    chain = prompt | llama_model | output_parser\n",
    "    response = chain.invoke({\"user_query\": text})\n",
    "    return response"
   ]
  },
  {
   "cell_type": "code",
   "execution_count": 25,
   "metadata": {},
   "outputs": [
    {
     "data": {
      "text/plain": [
       "'I\\'m happy to help you understand machine learning!\\n\\nMachine learning is a type of artificial intelligence (AI) that enables computers to learn from data without being explicitly programmed. It\\'s a way for machines to automatically improve their performance on a task by recognizing patterns and making decisions based on the data they receive.\\n\\nHere\\'s a simple analogy to help you understand machine learning:\\n\\nImagine you\\'re trying to teach a child to recognize different types of animals. You show them a picture of a cat, and they say \"oh, that\\'s a cat!\" Then, you show them a picture of a dog, and they say \"oh, that\\'s a dog!\" After seeing a few more pictures, they start to recognize patterns and can identify new animals without you having to explicitly tell them what they are. That\\'s basically what machine learning is – a computer system that learns from data and improves its performance over time.\\n\\nThere are different types of machine learning, including:\\n\\n1. **Supervised learning**: The computer is trained on labeled data, meaning the correct output is already known. For example, an algorithm might be trained to recognize images of cats and dogs, with labeled data to help it learn.\\n2. **Unsupervised learning**: The computer is trained on unlabeled data, and it must find patterns and relationships on its own. For example, an algorithm might be used to group similar customers together based on their purchase history.\\n3. **Reinforcement learning**: The computer learns through trial and error by receiving rewards or penalties for its actions. For example, a robot might learn to navigate a maze by receiving rewards for reaching the end.\\n\\nMachine learning has many applications, including:\\n\\n* Image and speech recognition\\n* Natural language processing\\n* Predictive modeling\\n* Recommendation systems\\n* Autonomous vehicles\\n* Healthcare diagnosis\\n\\nI hope this helps you understand machine learning better! Do you have any specific questions or applications you\\'d like to discuss?'"
      ]
     },
     "execution_count": 25,
     "metadata": {},
     "output_type": "execute_result"
    }
   ],
   "source": [
    "classify_blog(\"what is machine leraning?\")"
   ]
  }
 ],
 "metadata": {
  "kernelspec": {
   "display_name": "x-beta",
   "language": "python",
   "name": "python3"
  },
  "language_info": {
   "codemirror_mode": {
    "name": "ipython",
    "version": 3
   },
   "file_extension": ".py",
   "mimetype": "text/x-python",
   "name": "python",
   "nbconvert_exporter": "python",
   "pygments_lexer": "ipython3",
   "version": "3.9.17"
  }
 },
 "nbformat": 4,
 "nbformat_minor": 2
}
